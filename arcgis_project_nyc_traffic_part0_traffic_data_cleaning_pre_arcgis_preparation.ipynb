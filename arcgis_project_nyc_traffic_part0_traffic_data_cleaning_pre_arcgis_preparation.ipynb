{
 "cells": [
  {
   "cell_type": "code",
   "execution_count": null,
   "metadata": {},
   "outputs": [],
   "source": [
    "import os\n",
    "import pandas as pd\n",
    "import numpy as np\n",
    "\n",
    "FOLDER_PATH = os.getcwd()\n",
    "FILE_NAME = \"\\\\Traffic_Volume_Counts__2014-2019_.csv\"\n",
    "FILE_PATH = FOLDER_PATH + FILE_NAME\n",
    "\n",
    "traffic_orig = pd.read_csv(FILE_PATH)\n",
    "\n",
    "traffic = traffic_orig.copy()\n",
    "\n",
    "traffic[\"Segment ID\"] = traffic[\"Segment ID\"].astype(int)\n",
    "traffic[\"Is_Weekend\"] =  pd.to_datetime(traffic[\"Date\"]).dt.day_name().isin(['Saturday', 'Sunday'])\n",
    "traffic[\"Season\"] =  pd.to_datetime(traffic[\"Date\"]).dt.month % 12 // 3 + 1\n",
    "\n",
    "traffic_hour_column_names = ['12:00-1:00 AM', '1:00-2:00AM', '2:00-3:00AM', '3:00-4:00AM',\n",
    "       '4:00-5:00AM', '5:00-6:00AM', '6:00-7:00AM', '7:00-8:00AM',\n",
    "       '8:00-9:00AM', '9:00-10:00AM', '10:00-11:00AM', '11:00-12:00PM',\n",
    "       '12:00-1:00PM', '1:00-2:00PM', '2:00-3:00PM', '3:00-4:00PM',\n",
    "       '4:00-5:00PM', '5:00-6:00PM', '6:00-7:00PM', '7:00-8:00PM',\n",
    "       '8:00-9:00PM', '9:00-10:00PM', '10:00-11:00PM', '11:00-12:00AM']\n",
    "\n",
    "# renaming traffic hours\n",
    "traffic = traffic.rename(columns=dict(zip(traffic_hour_column_names, list(range(24)))))\n",
    "\n",
    "cols = ['ID', 'Segment ID', 'Roadway Name', 'Date', 'Is_Weekend', 'Season']\n",
    "\n",
    "traffic_v1 = traffic.melt(\n",
    "    id_vars = cols,\n",
    "    value_vars = list(range(24)),\n",
    "    var_name = 'Hour',\n",
    "    value_name = 'Traffic_Volume'\n",
    ")\n",
    "\n",
    "# the main purpose of this is because it seems like the data-table has split the road across 2 rows in terms of direction. \n",
    "# But we don't really care if the traffic in 1 side is different from the traffic on the other side heading the opposite \n",
    "# direction. To us, it's the same road, so we combine the traffic on either sides together.\n",
    "\n",
    "traffic_v2 = traffic_v1.groupby(cols + [\"Hour\"], as_index=False)[\"Traffic_Volume\"].sum()\n",
    "\n",
    "# Finally, the hours were binned together into groups of 3; therefore, a single 24-hour day is now just 8 chunks.\n",
    "# these 3-hour subgroups were aggregated by mean traffic volume, rounded to 2 decimal places\n",
    "cols = [\"Segment ID\", \"Is_Weekend\", \"Season\"]\n",
    "\n",
    "traffic_v2[\"3_Hr_Intvl\"] = ((traffic_v2[\"Hour\"] // 3) + 1)*3\n",
    "traffic_v3 = traffic_v2.groupby(cols + [\"3_Hr_Intvl\"], as_index=False)[\"Traffic_Volume\"].mean().round(2)\n",
    "\n",
    "FILE_NAME = \"\\\\nyc_traffic_3hrInterval.csv\"\n",
    "FILE_PATH = FOLDER_PATH + FILE_NAME\n",
    "traffic_v3.to_csv(FILE_PATH)"
   ]
  }
 ],
 "metadata": {
  "kernelspec": {
   "display_name": "Python 3",
   "language": "python",
   "name": "python3"
  },
  "language_info": {
   "codemirror_mode": {
    "name": "ipython",
    "version": 3
   },
   "file_extension": ".py",
   "mimetype": "text/x-python",
   "name": "python",
   "nbconvert_exporter": "python",
   "pygments_lexer": "ipython3",
   "version": "3.7.4"
  }
 },
 "nbformat": 4,
 "nbformat_minor": 2
}
