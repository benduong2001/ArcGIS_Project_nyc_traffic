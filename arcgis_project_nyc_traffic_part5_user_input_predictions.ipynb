{
 "cells": [
  {
   "cell_type": "code",
   "execution_count": null,
   "metadata": {},
   "outputs": [],
   "source": [
    "import pandas as pd\n",
    "from sklearn.ensemble import RandomForestClassifier\n",
    "import pickle"
   ]
  },
  {
   "cell_type": "markdown",
   "metadata": {},
   "source": [
    "* Please note that this is using the model that was only trained on the hour columns and landuse column.\n",
    "* This MODEL_INPUT_DF_INPUT_COLUMNS may be different if you decided to train it on different columns"
   ]
  },
  {
   "cell_type": "code",
   "execution_count": null,
   "metadata": {},
   "outputs": [],
   "source": [
    "# USER INPUT GOES HERE\n",
    "\n",
    "# choose which hour of the day you're intersted in.\n",
    "HOUR = 1 # input goes here\n",
    "# roughly guess the landuse composition surrounding your street of interest.\n",
    "# as a proportional 5 number list (it must add up to 1).\n",
    "LANDUSE_COMPOSITION = [0.9, 0, 0, 0.1, 0] # Input goes here"
   ]
  },
  {
   "cell_type": "markdown",
   "metadata": {},
   "source": [
    "* As a reminder, landuse types are \n",
    "* [Residential, Commercial/Office, Infrastructure, Public Institutions, Outside Space], in that order.\n",
    "    * Note that Infrastructure means industrial, factory, transportation, utility, parking structures.\n",
    "    * Note that Outside space means parks, open space, vacant lots\n",
    "    * Public institutions means libraries, schools, etc."
   ]
  },
  {
   "cell_type": "code",
   "execution_count": null,
   "metadata": {},
   "outputs": [],
   "source": [
    "pl_cl_model = pickle.load( open( \"nyc_traffic_cl_model.pkl\", \"rb\" ) )\n",
    "\n",
    "MODEL_INPUT_DF_INPUT_COLUMNS = [\"Hr{0}\".format(i) for i in range(3, 27, 3)]\n",
    "sample_input_df = pd.Series(index=MODEL_INPUT_DF_INPUT_COLUMNS,data=None)\n",
    "sample_input_df = sample_input_df.fillna(0)\n",
    "\n",
    "MODEL_INPUT_DF_INPUT_COLUMNS = []\n",
    "MODEL_INPUT_DF_INPUT_COLUMNS += [\"Hr{0}\".format(i) for i in range(3, 27, 3)]\n",
    "MODEL_INPUT_DF_INPUT_COLUMNS += [\"LandUse_t{0}\".format(i) for i in range(1, 6, 1)]\n",
    "\n",
    "sample_input_df[\"LandUse_t1\"] = LANDUSE_COMPOSITION[0]\n",
    "sample_input_df[\"LandUse_t2\"] = LANDUSE_COMPOSITION[1]\n",
    "sample_input_df[\"LandUse_t3\"] = LANDUSE_COMPOSITION[2]\n",
    "sample_input_df[\"LandUse_t4\"] = LANDUSE_COMPOSITION[3]\n",
    "sample_input_df[\"LandUse_t5\"] = LANDUSE_COMPOSITION[4]\n",
    "\n",
    "TRIHOUR = ((HOUR // 3)+1)*3\n",
    "TRIHOUR_LABEL = \"Hr\" + str(TRIHOUR)\n",
    "sample_input_df[TRIHOUR_LABEL] = 1\n",
    "\n",
    "traffic_volume_level = pl_cl_model.predict(sample_input_df.to_frame().T)[0]\n",
    "print(\"traffic volume level is\", traffic_volume_level)"
   ]
  },
  {
   "cell_type": "markdown",
   "metadata": {},
   "source": [
    "* 1 = Light Traffic\n",
    "* 2 = Medium Traffic\n",
    "* 3 = Heavy Traffic"
   ]
  }
 ],
 "metadata": {
  "kernelspec": {
   "display_name": "Python 3",
   "language": "python",
   "name": "python3"
  },
  "language_info": {
   "codemirror_mode": {
    "name": "ipython",
    "version": 3
   },
   "file_extension": ".py",
   "mimetype": "text/x-python",
   "name": "python",
   "nbconvert_exporter": "python",
   "pygments_lexer": "ipython3",
   "version": "3.7.4"
  }
 },
 "nbformat": 4,
 "nbformat_minor": 2
}
