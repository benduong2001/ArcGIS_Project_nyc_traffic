{
 "cells": [
  {
   "cell_type": "code",
   "execution_count": null,
   "metadata": {},
   "outputs": [],
   "source": [
    "import pandas as pd\n",
    "import numpy as np\n",
    "import matplotlib.pyplot as plt\n",
    "import os\n",
    "import seaborn as sns\n",
    "import pickle\n"
   ]
  },
  {
   "cell_type": "code",
   "execution_count": null,
   "metadata": {},
   "outputs": [],
   "source": [
    "from sklearn.preprocessing import OneHotEncoder, FunctionTransformer\n",
    "from sklearn.ensemble import RandomForestClassifier\n",
    "from sklearn.tree import DecisionTreeClassifier, DecisionTreeRegressor\n",
    "from sklearn.compose import ColumnTransformer\n",
    "from sklearn.impute import SimpleImputer\n",
    "from sklearn.decomposition import PCA\n",
    "from sklearn.pipeline import Pipeline\n",
    "from sklearn.model_selection import train_test_split\n",
    "from sklearn.metrics import f1_score\n",
    "from sklearn.metrics import precision_recall_fscore_support\n",
    "from sklearn.model_selection import GridSearchCV\n",
    "from sklearn.base import TransformerMixin, BaseEstimator\n",
    "from sklearn.model_selection import cross_val_score\n",
    "from sklearn.linear_model import LinearRegression\n",
    "from sklearn.svm import SVC\n",
    "from sklearn.ensemble import RandomForestRegressor"
   ]
  },
  {
   "cell_type": "code",
   "execution_count": null,
   "metadata": {},
   "outputs": [],
   "source": [
    "FOLDER_PATH = os.getcwd()\n",
    "FILE_NAME = \"\\\\nyc_traffic_ml_orig.csv\"\n",
    "FILE_PATH = FOLDER_PATH + FILE_NAME\n",
    "nyc_traffic_ml_orig = pd.read_csv(FILE_PATH)\n",
    "nyc_traffic_ml = nyc_traffic_ml_orig.copy()"
   ]
  },
  {
   "cell_type": "code",
   "execution_count": null,
   "metadata": {},
   "outputs": [],
   "source": [
    "STDEV_THRESHOLD = 1\n",
    "def categorize_traffic_volume(x):\n",
    "    if x < -STDEV_THRESHOLD:\n",
    "        category = 1\n",
    "    elif x > STDEV_THRESHOLD:\n",
    "        category = 3\n",
    "    else:\n",
    "        category = 2\n",
    "    return category"
   ]
  },
  {
   "cell_type": "code",
   "execution_count": null,
   "metadata": {},
   "outputs": [],
   "source": [
    "# You can drop any features you don't like by not adding them to to the SELECTED_COLUMNS list\n",
    "# but no matter what, Traffic_Volume must always be in it.\n",
    "MAIN_OUTPUT_COLUMN  = \"Traffic_Volume\"\n",
    "\n",
    "SELECTED_COLUMNS = [MAIN_OUTPUT_COLUMN]\n",
    "SELECTED_COLUMNS += [\"Segment_ID\"]\n",
    "SELECTED_COLUMNS += [\"Is_Weekend\"]\n",
    "\n",
    "SELECTED_COLUMNS += [\"Daylight\"]\n",
    "SELECTED_COLUMNS += [\"Season{0}\".format(i) for i in [1, 2, 4]]\n",
    "SELECTED_COLUMNS += [\"Hr{0}\".format(i) for i in range(3, 27, 3)]\n",
    "SELECTED_COLUMNS += [\"NumFloors\"]\n",
    "SELECTED_COLUMNS += [\"UnitsRes_Prop\"]\n",
    "SELECTED_COLUMNS += [\"StreetWidth\"]\n",
    "SELECTED_COLUMNS += [\"SubwayProximity\"]\n",
    "\n",
    "SELECTED_COLUMNS += [\"BoroCode{0}\".format(i) for i in range(1, 6,1)]\n",
    "SELECTED_COLUMNS += [\"LandUse_t{0}\".format(i) for i in range(1, 6,1)]\n",
    "nyc_traffic_ml = nyc_traffic_ml_orig.copy()[SELECTED_COLUMNS]"
   ]
  },
  {
   "cell_type": "code",
   "execution_count": null,
   "metadata": {},
   "outputs": [],
   "source": [
    "nyc_traffic_ml = nyc_traffic_ml.sample(frac=1)"
   ]
  },
  {
   "cell_type": "code",
   "execution_count": null,
   "metadata": {},
   "outputs": [],
   "source": [
    "Corr_df = nyc_traffic_ml.drop(columns=[\"Traffic_Volume\"])\n",
    "Corr_df[\"Traffic_Volume\"] = nyc_traffic_ml[\"Traffic_Volume\"] # only to put traffic volume at end, + before log categorization\n",
    "\n",
    "CORR_METHOD = [\"pearson\",\"spearman\",\"kendall\"][1]\n",
    "corrMatrix = Corr_df.corr(method = CORR_METHOD)\n",
    "\n",
    "quality = corrMatrix[corrMatrix.columns[-1]].abs().sum()\n",
    "print(quality)\n",
    "fig, ax = plt.subplots(figsize=(20,20)) \n",
    "\n",
    "ax = sns.heatmap(corrMatrix, annot=True) #notation: \"annot\" not \"annote\"\n",
    "y_lims = ax.get_ylim()\n",
    "\n",
    "ax.set_ylim(sum(y_lims), 0)"
   ]
  },
  {
   "cell_type": "code",
   "execution_count": null,
   "metadata": {},
   "outputs": [],
   "source": [
    "# but we might only need the hour columns and the landuse columns\n",
    "MAIN_OUTPUT_COLUMN  = \"Traffic_Volume\"\n",
    "\n",
    "SELECTED_COLUMNS = [MAIN_OUTPUT_COLUMN]\n",
    "#SELECTED_COLUMNS += [\"Segment_ID\"]\n",
    "#SELECTED_COLUMNS += [\"Is_Weekend\"]\n",
    "\n",
    "#SELECTED_COLUMNS += [\"Daylight\"]\n",
    "#SELECTED_COLUMNS += [\"Season{0}\".format(i) for i in [1, 2, 4]]\n",
    "SELECTED_COLUMNS += [\"Hr{0}\".format(i) for i in range(3, 27, 3)]\n",
    "#SELECTED_COLUMNS += [\"NumFloors\"]\n",
    "#SELECTED_COLUMNS += [\"UnitsRes_Prop\"]\n",
    "#SELECTED_COLUMNS += [\"StreetWidth\"]\n",
    "#SELECTED_COLUMNS += [\"SubwayProximity\"]\n",
    "\n",
    "#SELECTED_COLUMNS += [\"BoroCode{0}\".format(i) for i in range(1, 6,1)]\n",
    "SELECTED_COLUMNS += [\"LandUse_t{0}\".format(i) for i in range(1, 6,1)]\n",
    "nyc_traffic_ml = nyc_traffic_ml_orig.copy()[SELECTED_COLUMNS]"
   ]
  },
  {
   "cell_type": "code",
   "execution_count": null,
   "metadata": {},
   "outputs": [],
   "source": [
    "MODEL_INPUT_DF_OUTPUT_COLUMN = MAIN_OUTPUT_COLUMN\n",
    "\n",
    "nyc_traffic_ml[MODEL_INPUT_DF_OUTPUT_COLUMN] = (nyc_traffic_ml[MODEL_INPUT_DF_OUTPUT_COLUMN]+1).apply(np.log)\n",
    "\n",
    "nyc_traffic_ml[MODEL_INPUT_DF_OUTPUT_COLUMN] = (\n",
    "    nyc_traffic_ml[MODEL_INPUT_DF_OUTPUT_COLUMN] - \n",
    "    nyc_traffic_ml[MODEL_INPUT_DF_OUTPUT_COLUMN].mean())/(nyc_traffic_ml[MODEL_INPUT_DF_OUTPUT_COLUMN].std())\n",
    "\n",
    "nyc_traffic_ml[MODEL_INPUT_DF_OUTPUT_COLUMN] = nyc_traffic_ml[MODEL_INPUT_DF_OUTPUT_COLUMN].apply(categorize_traffic_volume)"
   ]
  },
  {
   "cell_type": "code",
   "execution_count": null,
   "metadata": {},
   "outputs": [],
   "source": [
    "MODEL_INPUT_DF_OUTPUT_COLUMNS = []\n",
    "MODEL_INPUT_DF_OUTPUT_COLUMNS += [MODEL_INPUT_DF_OUTPUT_COLUMN]\n",
    "MODEL_INPUT_DF_INPUT_COLUMNS = []\n",
    "MODEL_INPUT_DF_INPUT_COLUMNS += list(nyc_traffic_ml.drop(columns=MODEL_INPUT_DF_OUTPUT_COLUMNS).columns.values)\n",
    "model_input_df = nyc_traffic_ml.copy()"
   ]
  },
  {
   "cell_type": "code",
   "execution_count": null,
   "metadata": {},
   "outputs": [],
   "source": [
    "categ_columns = []\n",
    "numer_columns = MODEL_INPUT_DF_INPUT_COLUMNS"
   ]
  },
  {
   "cell_type": "code",
   "execution_count": null,
   "metadata": {},
   "outputs": [],
   "source": [
    "##creating ct0 pipeline\n",
    "\n",
    "categ_columns_pipeline = Pipeline([\n",
    "    (\"imp\", SimpleImputer(strategy=\"constant\", fill_value=\"NULL\")),\n",
    "    (\"one-hot\", OneHotEncoder(sparse=True,handle_unknown=\"ignore\")),\n",
    "])\n",
    "\n",
    "numer_columns_pipeline = Pipeline([\n",
    "    (\"imp\", SimpleImputer(strategy=\"constant\", fill_value=0))\n",
    "])\n",
    "\n",
    "\n",
    "ct0 = ColumnTransformer([\n",
    "    (\"categ\",categ_columns_pipeline,categ_columns),\n",
    "    (\"numer\",numer_columns_pipeline,numer_columns)\n",
    "])"
   ]
  },
  {
   "cell_type": "code",
   "execution_count": null,
   "metadata": {},
   "outputs": [],
   "source": [
    "def MODEL_IMPLEMENTER(MODEL, MODEL_NAME):\n",
    "\n",
    "    pl_cl_model = Pipeline([\n",
    "        (\"features\", ct0),\n",
    "        (\"model\", MODEL)\n",
    "    ])\n",
    "\n",
    "\n",
    "    y = model_input_df[MODEL_INPUT_DF_OUTPUT_COLUMN]\n",
    "    X = model_input_df[MODEL_INPUT_DF_INPUT_COLUMNS]\n",
    "\n",
    "    X_train, X_test, y_train, y_test = train_test_split(X,y)\n",
    "    pl_cl_model.fit(X_train, y_train)\n",
    "    base_rand_score = pl_cl_model.score(X_test, y_test)\n",
    "    \n",
    "    print(MODEL_NAME)\n",
    "    scores_base = [base_rand_score]\n",
    "    topscore = -1\n",
    "    topseed = -1\n",
    "    coeffs_list = []\n",
    "    trials_num = 20\n",
    "    for i in range(0, trials_num):\n",
    "        if (i+1)%10==0: print(i+1,\"of\", trials_num);\n",
    "        rand_seed = i\n",
    "        np.random.seed(rand_seed)\n",
    "        pl_cl_model.fit(X_train, y_train)\n",
    "        score = pl_cl_model.score(X_test, y_test)\n",
    "        if score >= topscore:\n",
    "            topscore = score\n",
    "            topseed = rand_seed\n",
    "        scores_base.append(score)\n",
    "    np.random.seed(topseed)\n",
    "    X_train, X_test, y_train, y_test = train_test_split(X,y)\n",
    "    pl_cl_model.fit(X_train, y_train)\n",
    "    print(\"Cross val score:\", cross_val_score(pl_cl_model, X_train, y_train, cv=4))\n",
    "    print(\"Score:\", pl_cl_model.score(X_test, y_test))\n",
    "    return [pl_cl_model, scores_base]"
   ]
  },
  {
   "cell_type": "code",
   "execution_count": null,
   "metadata": {},
   "outputs": [],
   "source": [
    "MODEL = RandomForestClassifier(class_weight=\"balanced\")\n",
    "MODEL_RESULTS1 = MODEL_IMPLEMENTER(MODEL, \"RandomForestClassifier\")\n",
    "plt.hist(MODEL_RESULTS1[1])"
   ]
  },
  {
   "cell_type": "code",
   "execution_count": null,
   "metadata": {},
   "outputs": [],
   "source": [
    "pl_cl_model = MODEL_RESULTS1[0]"
   ]
  },
  {
   "cell_type": "code",
   "execution_count": null,
   "metadata": {},
   "outputs": [],
   "source": [
    "# save\n",
    "with open('nyc_traffic_cl_model.pkl','wb') as f:\n",
    "    pickle.dump(pl_cl_model,f)\n",
    "\n",
    "pl_cl_model = pickle.load( open( \"nyc_traffic_cl_model.pkl\", \"rb\" ) )"
   ]
  }
 ],
 "metadata": {
  "kernelspec": {
   "display_name": "Python 3",
   "language": "python",
   "name": "python3"
  },
  "language_info": {
   "codemirror_mode": {
    "name": "ipython",
    "version": 3
   },
   "file_extension": ".py",
   "mimetype": "text/x-python",
   "name": "python",
   "nbconvert_exporter": "python",
   "pygments_lexer": "ipython3",
   "version": "3.7.4"
  }
 },
 "nbformat": 4,
 "nbformat_minor": 2
}
